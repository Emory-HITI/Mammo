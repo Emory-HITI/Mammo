{
 "cells": [
  {
   "cell_type": "markdown",
   "metadata": {},
   "source": [
    "# Image Type Derivation Notebook\n",
    "### Jiwoong Jason Jeong"
   ]
  },
  {
   "cell_type": "code",
   "execution_count": 1,
   "metadata": {},
   "outputs": [],
   "source": [
    "# load necessary libraries\n",
    "import os\n",
    "import numpy as np\n",
    "import pandas as pd"
   ]
  },
  {
   "cell_type": "code",
   "execution_count": 2,
   "metadata": {},
   "outputs": [],
   "source": [
    "# load paths and csv\n",
    "base_path = '/home/jupyter-jjjeon3/data/mammo/png_BR0_samples/extracted-images/'\n",
    "merged_50_2 = pd.read_csv('/data/mammo/png_BR0_samples/merged_50_2_full_anon.csv', low_memory=False)  # low_memory=False as these csv files are large"
   ]
  },
  {
   "cell_type": "code",
   "execution_count": 3,
   "metadata": {},
   "outputs": [],
   "source": [
    "# formuating the final function to add the image types and derived laterality or position\n",
    "\n",
    "def derive_ImageTypes(test_df):\n",
    "    \"\"\"test_df should be the dataframe that contains the 'ImageLaterality', 'ViewPosition', 'SeriesDescription' columns\"\"\"\n",
    "    # initializing empty lists:\n",
    "    DeriveFlag = []  # ImageLaterality: 0 (not derived), 1 (derived), 2 (need to derive)\n",
    "    ImageLateralityFinal = []  # the image laterality either copied or taken from series description\n",
    "    FinalImageType = []  # final image type: 2D, 3D, cview, ROI_SSC, ROI_SS, Other (not any of the other ones)\n",
    "\n",
    "    for index, row in test_df.iterrows():  # iterating over all rows\n",
    "        try:\n",
    "            desc = row['SeriesDescription'].split(' ')  # splitting up the series description for checking\n",
    "        except:\n",
    "            DeriveFlag.append(2)  # update derive flag = 0 \n",
    "            ImageLateralityFinal.append('NaN')  # update final ImageLaterality\n",
    "            FinalImageType.append('other')  # update imagetype\n",
    "            continue\n",
    "        if row['ImageLaterality'] in ['L', 'R']:  # if lat exists, it's either 2D or cview or ROI\n",
    "            if 'C-View' in desc:  # if it has C-View it's cview\n",
    "                DeriveFlag.append(0)  # update derive flag = 0 \n",
    "                ImageLateralityFinal.append(row['ImageLaterality'])  # update final ImageLaterality\n",
    "                FinalImageType.append('cview')  # update imagetype\n",
    "            else:  # if it has lat and is not cview, it's 2d\n",
    "                DeriveFlag.append(0)  # update derive flag = 0 \n",
    "                ImageLateralityFinal.append(row['ImageLaterality'])  # update final ImageLaterality\n",
    "                FinalImageType.append('2D')  # update imagetype\n",
    "        else:  # if lat doesn't exist, it's either 3D, ROI\n",
    "            if 'Tomosynthesis' in desc:  # if it has Tomosynthesis Reconstruction is 3D\n",
    "                DeriveFlag.append(1)  # update derive flag = 1\n",
    "                ImageLateralityFinal.append(desc[0])  # update final ImageLaterality\n",
    "                FinalImageType.append('3D')  # update imagetype\n",
    "            elif 'Capture' in desc:  # if it has Secondary Capture, it's SecurView Secondary Capture ROI\n",
    "                DeriveFlag.append(2)  # update derive flag = 1\n",
    "                ImageLateralityFinal.append('NaN')  # update final ImageLaterality\n",
    "                FinalImageType.append('ROI_SSC')  # update imagetype\n",
    "            elif 'Screen Save' in desc:\n",
    "                DeriveFlag.append(2)  # update derive flag = 1\n",
    "                ImageLateralityFinal.append('NaN')  # update final ImageLaterality\n",
    "                FinalImageType.append('ROI_SS')  # update imagetype\n",
    "            else:\n",
    "                DeriveFlag.append(2)  # update derive flag = 1\n",
    "                ImageLateralityFinal.append('NaN')  # update final ImageLaterality\n",
    "                FinalImageType.append('other')  # update imagetype\n",
    "    \n",
    "    # adding the new, extracted columns\n",
    "    test_df['DeriveFlag'] = DeriveFlag\n",
    "    test_df['ImageLateralityFinal'] = ImageLateralityFinal\n",
    "    test_df['FinalImageType'] = FinalImageType\n",
    "    \n",
    "    return test_df"
   ]
  },
  {
   "cell_type": "code",
   "execution_count": 5,
   "metadata": {},
   "outputs": [
    {
     "name": "stdout",
     "output_type": "stream",
     "text": [
      "(11377, 3)\n"
     ]
    },
    {
     "data": {
      "text/html": [
       "<div>\n",
       "<style scoped>\n",
       "    .dataframe tbody tr th:only-of-type {\n",
       "        vertical-align: middle;\n",
       "    }\n",
       "\n",
       "    .dataframe tbody tr th {\n",
       "        vertical-align: top;\n",
       "    }\n",
       "\n",
       "    .dataframe thead th {\n",
       "        text-align: right;\n",
       "    }\n",
       "</style>\n",
       "<table border=\"1\" class=\"dataframe\">\n",
       "  <thead>\n",
       "    <tr style=\"text-align: right;\">\n",
       "      <th></th>\n",
       "      <th>ImageLaterality</th>\n",
       "      <th>ViewPosition</th>\n",
       "      <th>SeriesDescription</th>\n",
       "    </tr>\n",
       "  </thead>\n",
       "  <tbody>\n",
       "    <tr>\n",
       "      <th>0</th>\n",
       "      <td>NaN</td>\n",
       "      <td>MLO</td>\n",
       "      <td>L MLO Tomosynthesis Reconstruction</td>\n",
       "    </tr>\n",
       "    <tr>\n",
       "      <th>1</th>\n",
       "      <td>NaN</td>\n",
       "      <td>MLO</td>\n",
       "      <td>R MLO Tomosynthesis Reconstruction</td>\n",
       "    </tr>\n",
       "    <tr>\n",
       "      <th>2</th>\n",
       "      <td>NaN</td>\n",
       "      <td>CC</td>\n",
       "      <td>R CC Tomosynthesis Reconstruction</td>\n",
       "    </tr>\n",
       "    <tr>\n",
       "      <th>3</th>\n",
       "      <td>L</td>\n",
       "      <td>CC</td>\n",
       "      <td>L CC</td>\n",
       "    </tr>\n",
       "    <tr>\n",
       "      <th>4</th>\n",
       "      <td>NaN</td>\n",
       "      <td>CC</td>\n",
       "      <td>L CC Tomosynthesis Reconstruction</td>\n",
       "    </tr>\n",
       "  </tbody>\n",
       "</table>\n",
       "</div>"
      ],
      "text/plain": [
       "  ImageLaterality ViewPosition                   SeriesDescription\n",
       "0             NaN          MLO  L MLO Tomosynthesis Reconstruction\n",
       "1             NaN          MLO  R MLO Tomosynthesis Reconstruction\n",
       "2             NaN           CC   R CC Tomosynthesis Reconstruction\n",
       "3               L           CC                                L CC\n",
       "4             NaN           CC   L CC Tomosynthesis Reconstruction"
      ]
     },
     "execution_count": 5,
     "metadata": {},
     "output_type": "execute_result"
    }
   ],
   "source": [
    "# Extracting the 'messy' Image Type information columns (not necessary but slightly faster - more significant as dataframes get much larger)\n",
    "raw_imgType_df = merged_50_2[['ImageLaterality', 'ViewPosition', 'SeriesDescription']].copy()\n",
    "print(raw_imgType_df.shape)\n",
    "raw_imgType_df.head()"
   ]
  },
  {
   "cell_type": "code",
   "execution_count": 6,
   "metadata": {},
   "outputs": [
    {
     "data": {
      "text/html": [
       "<div>\n",
       "<style scoped>\n",
       "    .dataframe tbody tr th:only-of-type {\n",
       "        vertical-align: middle;\n",
       "    }\n",
       "\n",
       "    .dataframe tbody tr th {\n",
       "        vertical-align: top;\n",
       "    }\n",
       "\n",
       "    .dataframe thead th {\n",
       "        text-align: right;\n",
       "    }\n",
       "</style>\n",
       "<table border=\"1\" class=\"dataframe\">\n",
       "  <thead>\n",
       "    <tr style=\"text-align: right;\">\n",
       "      <th></th>\n",
       "      <th>ImageLaterality</th>\n",
       "      <th>ViewPosition</th>\n",
       "      <th>SeriesDescription</th>\n",
       "      <th>DeriveFlag</th>\n",
       "      <th>ImageLateralityFinal</th>\n",
       "      <th>FinalImageType</th>\n",
       "    </tr>\n",
       "  </thead>\n",
       "  <tbody>\n",
       "    <tr>\n",
       "      <th>0</th>\n",
       "      <td>NaN</td>\n",
       "      <td>MLO</td>\n",
       "      <td>L MLO Tomosynthesis Reconstruction</td>\n",
       "      <td>1</td>\n",
       "      <td>L</td>\n",
       "      <td>3D</td>\n",
       "    </tr>\n",
       "    <tr>\n",
       "      <th>1</th>\n",
       "      <td>NaN</td>\n",
       "      <td>MLO</td>\n",
       "      <td>R MLO Tomosynthesis Reconstruction</td>\n",
       "      <td>1</td>\n",
       "      <td>R</td>\n",
       "      <td>3D</td>\n",
       "    </tr>\n",
       "    <tr>\n",
       "      <th>2</th>\n",
       "      <td>NaN</td>\n",
       "      <td>CC</td>\n",
       "      <td>R CC Tomosynthesis Reconstruction</td>\n",
       "      <td>1</td>\n",
       "      <td>R</td>\n",
       "      <td>3D</td>\n",
       "    </tr>\n",
       "    <tr>\n",
       "      <th>3</th>\n",
       "      <td>L</td>\n",
       "      <td>CC</td>\n",
       "      <td>L CC</td>\n",
       "      <td>0</td>\n",
       "      <td>L</td>\n",
       "      <td>2D</td>\n",
       "    </tr>\n",
       "    <tr>\n",
       "      <th>4</th>\n",
       "      <td>NaN</td>\n",
       "      <td>CC</td>\n",
       "      <td>L CC Tomosynthesis Reconstruction</td>\n",
       "      <td>1</td>\n",
       "      <td>L</td>\n",
       "      <td>3D</td>\n",
       "    </tr>\n",
       "  </tbody>\n",
       "</table>\n",
       "</div>"
      ],
      "text/plain": [
       "  ImageLaterality ViewPosition                   SeriesDescription  \\\n",
       "0             NaN          MLO  L MLO Tomosynthesis Reconstruction   \n",
       "1             NaN          MLO  R MLO Tomosynthesis Reconstruction   \n",
       "2             NaN           CC   R CC Tomosynthesis Reconstruction   \n",
       "3               L           CC                                L CC   \n",
       "4             NaN           CC   L CC Tomosynthesis Reconstruction   \n",
       "\n",
       "   DeriveFlag ImageLateralityFinal FinalImageType  \n",
       "0           1                    L             3D  \n",
       "1           1                    R             3D  \n",
       "2           1                    R             3D  \n",
       "3           0                    L             2D  \n",
       "4           1                    L             3D  "
      ]
     },
     "execution_count": 6,
     "metadata": {},
     "output_type": "execute_result"
    }
   ],
   "source": [
    "# running the derivation\n",
    "raw_imgType_df_derived = derive_ImageTypes(raw_imgType_df)\n",
    "raw_imgType_df_derived.head()"
   ]
  },
  {
   "cell_type": "markdown",
   "metadata": {},
   "source": [
    "# Speed Test (Full dataframe vs Partial dataframe)"
   ]
  },
  {
   "cell_type": "code",
   "execution_count": 7,
   "metadata": {},
   "outputs": [],
   "source": [
    "import time"
   ]
  },
  {
   "cell_type": "code",
   "execution_count": 8,
   "metadata": {},
   "outputs": [
    {
     "name": "stdout",
     "output_type": "stream",
     "text": [
      "1.0220119953155518\n"
     ]
    }
   ],
   "source": [
    "# full dataframe\n",
    "start = time.time()\n",
    "merged_50_2_derived = derive_ImageTypes(merged_50_2)\n",
    "end = time.time()\n",
    "print(end - start)"
   ]
  },
  {
   "cell_type": "code",
   "execution_count": 9,
   "metadata": {},
   "outputs": [
    {
     "name": "stdout",
     "output_type": "stream",
     "text": [
      "0.9592719078063965\n"
     ]
    }
   ],
   "source": [
    "# partial dataframe\n",
    "start = time.time()\n",
    "raw_imgType_df_derived = derive_ImageTypes(raw_imgType_df)\n",
    "end = time.time()\n",
    "print(end - start)"
   ]
  },
  {
   "cell_type": "code",
   "execution_count": null,
   "metadata": {},
   "outputs": [],
   "source": []
  }
 ],
 "metadata": {
  "kernelspec": {
   "display_name": "Python 3",
   "language": "python",
   "name": "python3"
  },
  "language_info": {
   "codemirror_mode": {
    "name": "ipython",
    "version": 3
   },
   "file_extension": ".py",
   "mimetype": "text/x-python",
   "name": "python",
   "nbconvert_exporter": "python",
   "pygments_lexer": "ipython3",
   "version": "3.7.3"
  }
 },
 "nbformat": 4,
 "nbformat_minor": 4
}
